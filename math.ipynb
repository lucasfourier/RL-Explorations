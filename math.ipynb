{
 "cells": [
  {
   "cell_type": "markdown",
   "metadata": {},
   "source": [
    "This notebook is more suitable for mathematical experiments and explanations."
   ]
  },
  {
   "cell_type": "code",
   "execution_count": 794,
   "metadata": {},
   "outputs": [],
   "source": [
    "import numpy as np\n",
    "import matplotlib.pyplot as plt"
   ]
  },
  {
   "cell_type": "code",
   "execution_count": 795,
   "metadata": {},
   "outputs": [],
   "source": [
    "# Initializations\n",
    "\n",
    "num_possible_actions = 1\n",
    "iterations = 250\n",
    "\n",
    "Q = np.zeros(num_possible_actions)\n",
    "q_star = np.zeros(num_possible_actions)\n",
    "\n",
    "reward = []\n",
    "average_reward = 0"
   ]
  },
  {
   "cell_type": "markdown",
   "metadata": {},
   "source": [
    "We have 1 possible action (So far). Each action posesses a true value $q^*(a)$:\n",
    "\\begin{equation}\n",
    "q^*(a) \\sim N(0,1)\n",
    "\\end{equation}\n",
    "\n",
    "Of course, $q^*(a)$ should be fixed from the beginning and won't change from iteration to iteration."
   ]
  },
  {
   "cell_type": "code",
   "execution_count": 796,
   "metadata": {},
   "outputs": [
    {
     "data": {
      "text/plain": [
       "array([-0.6201068])"
      ]
     },
     "execution_count": 796,
     "metadata": {},
     "output_type": "execute_result"
    }
   ],
   "source": [
    "\"\"\"\n",
    "q*(a) ~ N(0, 1) is fixed for each action.\n",
    "\"\"\"\n",
    "for i in range(len(q_star)):\n",
    "    q_star[i] = np.random.normal(0, 1)\n",
    "\n",
    "q_star"
   ]
  },
  {
   "cell_type": "markdown",
   "metadata": {},
   "source": [
    "Cell below does the following:\n",
    "1. It introduces and generates values for the Random Variable reward as:\n",
    "\\begin{equation}\n",
    "R_{i}(a) \\sim N(q_{*}(a), 1)\n",
    "\\end{equation}\n",
    "where $i$ is the current iteration.\n",
    "\n",
    "2. It computes the mean reward (of a single action $a$) obtained from #iterations. This value is called $Q_{n}(a)$ and denotes the **estimate** of the action we are concentrated in.\n",
    "\\begin{equation}\n",
    "Q_n(a) \\doteq \\frac{R_1(a)+R_2(a)+\\cdots+R_{n-1}(a)}{n-1}\n",
    "\\end{equation}\n",
    "of course, \n",
    "\n",
    "\\begin{equation}\n",
    "Q_n(a) \\xrightarrow{n \\to \\infty} q_*(a)\n",
    "\\end{equation}"
   ]
  },
  {
   "cell_type": "code",
   "execution_count": 797,
   "metadata": {},
   "outputs": [
    {
     "name": "stdout",
     "output_type": "stream",
     "text": [
      "Rewards being generated centered at -0.6201\n",
      "\n",
      "Reward at t = 0 was -1.3329 for action 0\n",
      "Reward at t = 1 was -0.7524 for action 0\n",
      "Reward at t = 2 was 0.2378 for action 0\n",
      "Reward at t = 3 was -0.5668 for action 0\n",
      "Reward at t = 4 was 0.1805 for action 0\n",
      "Reward at t = 5 was 1.0588 for action 0\n",
      "Reward at t = 6 was -0.3667 for action 0\n",
      "Reward at t = 7 was -1.8164 for action 0\n",
      "Reward at t = 8 was 1.6709 for action 0\n",
      "Reward at t = 9 was -0.2757 for action 0\n",
      "Reward at t = 10 was -1.1729 for action 0\n",
      "Reward at t = 11 was -0.8214 for action 0\n",
      "Reward at t = 12 was -0.2289 for action 0\n",
      "Reward at t = 13 was -1.1512 for action 0\n",
      "Reward at t = 14 was 0.2505 for action 0\n",
      "Reward at t = 15 was -0.6658 for action 0\n",
      "Reward at t = 16 was -1.4225 for action 0\n",
      "Reward at t = 17 was 0.2945 for action 0\n",
      "Reward at t = 18 was 0.2681 for action 0\n",
      "Reward at t = 19 was -2.6183 for action 0\n",
      "Reward at t = 20 was -1.1328 for action 0\n",
      "Reward at t = 21 was -0.0487 for action 0\n",
      "Reward at t = 22 was -0.3839 for action 0\n",
      "Reward at t = 23 was -0.8928 for action 0\n",
      "Reward at t = 24 was -1.0432 for action 0\n",
      "Reward at t = 25 was -0.5571 for action 0\n",
      "Reward at t = 26 was 1.1376 for action 0\n",
      "Reward at t = 27 was -1.2070 for action 0\n",
      "Reward at t = 28 was -2.4563 for action 0\n",
      "Reward at t = 29 was 1.0313 for action 0\n",
      "Reward at t = 30 was 0.5507 for action 0\n",
      "Reward at t = 31 was -0.6298 for action 0\n",
      "Reward at t = 32 was 0.5301 for action 0\n",
      "Reward at t = 33 was -0.8694 for action 0\n",
      "Reward at t = 34 was -0.8243 for action 0\n",
      "Reward at t = 35 was 0.0362 for action 0\n",
      "Reward at t = 36 was 0.3241 for action 0\n",
      "Reward at t = 37 was 0.0776 for action 0\n",
      "Reward at t = 38 was -1.2252 for action 0\n",
      "Reward at t = 39 was -0.9795 for action 0\n",
      "Reward at t = 40 was -2.4067 for action 0\n",
      "Reward at t = 41 was -1.3105 for action 0\n",
      "Reward at t = 42 was -0.5389 for action 0\n",
      "Reward at t = 43 was -1.6925 for action 0\n",
      "Reward at t = 44 was -1.0300 for action 0\n",
      "Reward at t = 45 was -1.1376 for action 0\n",
      "Reward at t = 46 was 0.1296 for action 0\n",
      "Reward at t = 47 was -1.4286 for action 0\n",
      "Reward at t = 48 was -1.2777 for action 0\n",
      "Reward at t = 49 was -0.2248 for action 0\n",
      "Reward at t = 50 was -0.3173 for action 0\n",
      "Reward at t = 51 was -0.7400 for action 0\n",
      "Reward at t = 52 was 1.0405 for action 0\n",
      "Reward at t = 53 was 0.2817 for action 0\n",
      "Reward at t = 54 was 0.3698 for action 0\n",
      "Reward at t = 55 was -0.5120 for action 0\n",
      "Reward at t = 56 was -2.5977 for action 0\n",
      "Reward at t = 57 was 1.2067 for action 0\n",
      "Reward at t = 58 was 0.6148 for action 0\n",
      "Reward at t = 59 was -0.4530 for action 0\n",
      "Reward at t = 60 was -0.6270 for action 0\n",
      "Reward at t = 61 was 0.5339 for action 0\n",
      "Reward at t = 62 was -1.1505 for action 0\n",
      "Reward at t = 63 was -2.2803 for action 0\n",
      "Reward at t = 64 was -1.0208 for action 0\n",
      "Reward at t = 65 was -0.3401 for action 0\n",
      "Reward at t = 66 was -0.7498 for action 0\n",
      "Reward at t = 67 was 0.6760 for action 0\n",
      "Reward at t = 68 was -0.1405 for action 0\n",
      "Reward at t = 69 was -0.6194 for action 0\n",
      "Reward at t = 70 was -0.4682 for action 0\n",
      "Reward at t = 71 was -0.5881 for action 0\n",
      "Reward at t = 72 was 0.6668 for action 0\n",
      "Reward at t = 73 was -1.0362 for action 0\n",
      "Reward at t = 74 was -0.9554 for action 0\n",
      "Reward at t = 75 was -0.4317 for action 0\n",
      "Reward at t = 76 was -0.7318 for action 0\n",
      "Reward at t = 77 was -0.9304 for action 0\n",
      "Reward at t = 78 was -0.5891 for action 0\n",
      "Reward at t = 79 was -1.5215 for action 0\n",
      "Reward at t = 80 was -2.5272 for action 0\n",
      "Reward at t = 81 was -1.0368 for action 0\n",
      "Reward at t = 82 was -0.7135 for action 0\n",
      "Reward at t = 83 was -1.3074 for action 0\n",
      "Reward at t = 84 was -0.7882 for action 0\n",
      "Reward at t = 85 was 0.6260 for action 0\n",
      "Reward at t = 86 was -0.9190 for action 0\n",
      "Reward at t = 87 was -2.2211 for action 0\n",
      "Reward at t = 88 was 1.8068 for action 0\n",
      "Reward at t = 89 was -1.2098 for action 0\n",
      "Reward at t = 90 was -0.9799 for action 0\n",
      "Reward at t = 91 was 0.3823 for action 0\n",
      "Reward at t = 92 was -0.4567 for action 0\n",
      "Reward at t = 93 was -1.2874 for action 0\n",
      "Reward at t = 94 was -0.4219 for action 0\n",
      "Reward at t = 95 was -1.1289 for action 0\n",
      "Reward at t = 96 was -2.0786 for action 0\n",
      "Reward at t = 97 was -2.1614 for action 0\n",
      "Reward at t = 98 was -1.8728 for action 0\n",
      "Reward at t = 99 was -1.7562 for action 0\n",
      "Reward at t = 100 was -1.0960 for action 0\n",
      "Reward at t = 101 was 1.0811 for action 0\n",
      "Reward at t = 102 was -1.6718 for action 0\n",
      "Reward at t = 103 was -1.3032 for action 0\n",
      "Reward at t = 104 was -1.4217 for action 0\n",
      "Reward at t = 105 was 0.0936 for action 0\n",
      "Reward at t = 106 was 1.1318 for action 0\n",
      "Reward at t = 107 was -1.2377 for action 0\n",
      "Reward at t = 108 was -0.4472 for action 0\n",
      "Reward at t = 109 was 0.2920 for action 0\n",
      "Reward at t = 110 was -2.2094 for action 0\n",
      "Reward at t = 111 was -0.2029 for action 0\n",
      "Reward at t = 112 was 1.0733 for action 0\n",
      "Reward at t = 113 was -0.0189 for action 0\n",
      "Reward at t = 114 was -2.7378 for action 0\n",
      "Reward at t = 115 was 0.6454 for action 0\n",
      "Reward at t = 116 was 0.1695 for action 0\n",
      "Reward at t = 117 was -1.2308 for action 0\n",
      "Reward at t = 118 was -0.3871 for action 0\n",
      "Reward at t = 119 was -1.2209 for action 0\n",
      "Reward at t = 120 was -0.7796 for action 0\n",
      "Reward at t = 121 was 0.0222 for action 0\n",
      "Reward at t = 122 was 0.3935 for action 0\n",
      "Reward at t = 123 was 0.0513 for action 0\n",
      "Reward at t = 124 was -0.5598 for action 0\n",
      "Reward at t = 125 was 0.6025 for action 0\n",
      "Reward at t = 126 was -1.8095 for action 0\n",
      "Reward at t = 127 was 0.8800 for action 0\n",
      "Reward at t = 128 was -2.1432 for action 0\n",
      "Reward at t = 129 was 0.5090 for action 0\n",
      "Reward at t = 130 was -0.9094 for action 0\n",
      "Reward at t = 131 was -3.9695 for action 0\n",
      "Reward at t = 132 was -0.1046 for action 0\n",
      "Reward at t = 133 was 1.2832 for action 0\n",
      "Reward at t = 134 was -0.6625 for action 0\n",
      "Reward at t = 135 was 0.6883 for action 0\n",
      "Reward at t = 136 was -0.0647 for action 0\n",
      "Reward at t = 137 was -1.4529 for action 0\n",
      "Reward at t = 138 was 0.0692 for action 0\n",
      "Reward at t = 139 was -0.6966 for action 0\n",
      "Reward at t = 140 was 1.6560 for action 0\n",
      "Reward at t = 141 was -1.0692 for action 0\n",
      "Reward at t = 142 was -1.2588 for action 0\n",
      "Reward at t = 143 was 0.7724 for action 0\n",
      "Reward at t = 144 was -0.0782 for action 0\n",
      "Reward at t = 145 was -1.3279 for action 0\n",
      "Reward at t = 146 was 0.5385 for action 0\n",
      "Reward at t = 147 was 0.4556 for action 0\n",
      "Reward at t = 148 was -0.9378 for action 0\n",
      "Reward at t = 149 was -0.6843 for action 0\n",
      "Reward at t = 150 was -1.2209 for action 0\n",
      "Reward at t = 151 was -1.3105 for action 0\n",
      "Reward at t = 152 was -0.0599 for action 0\n",
      "Reward at t = 153 was 1.1137 for action 0\n",
      "Reward at t = 154 was 1.6614 for action 0\n",
      "Reward at t = 155 was -0.3104 for action 0\n",
      "Reward at t = 156 was -0.3936 for action 0\n",
      "Reward at t = 157 was -0.8373 for action 0\n",
      "Reward at t = 158 was -1.3747 for action 0\n",
      "Reward at t = 159 was -0.6499 for action 0\n",
      "Reward at t = 160 was 0.8599 for action 0\n",
      "Reward at t = 161 was -0.1165 for action 0\n",
      "Reward at t = 162 was 0.3256 for action 0\n",
      "Reward at t = 163 was -0.1219 for action 0\n",
      "Reward at t = 164 was 0.3378 for action 0\n",
      "Reward at t = 165 was 1.0219 for action 0\n",
      "Reward at t = 166 was 0.7800 for action 0\n",
      "Reward at t = 167 was -0.3606 for action 0\n",
      "Reward at t = 168 was -1.9815 for action 0\n",
      "Reward at t = 169 was -1.4699 for action 0\n",
      "Reward at t = 170 was -0.2178 for action 0\n",
      "Reward at t = 171 was -3.4964 for action 0\n",
      "Reward at t = 172 was -0.6780 for action 0\n",
      "Reward at t = 173 was -1.5915 for action 0\n",
      "Reward at t = 174 was 0.4166 for action 0\n",
      "Reward at t = 175 was -0.1642 for action 0\n",
      "Reward at t = 176 was -0.3321 for action 0\n",
      "Reward at t = 177 was -0.6642 for action 0\n",
      "Reward at t = 178 was -0.1739 for action 0\n",
      "Reward at t = 179 was 0.1977 for action 0\n",
      "Reward at t = 180 was -0.3799 for action 0\n",
      "Reward at t = 181 was -0.0658 for action 0\n",
      "Reward at t = 182 was 0.4474 for action 0\n",
      "Reward at t = 183 was -0.9346 for action 0\n",
      "Reward at t = 184 was -0.3701 for action 0\n",
      "Reward at t = 185 was -0.8205 for action 0\n",
      "Reward at t = 186 was -1.3057 for action 0\n",
      "Reward at t = 187 was -0.4360 for action 0\n",
      "Reward at t = 188 was -1.5886 for action 0\n",
      "Reward at t = 189 was -1.9203 for action 0\n",
      "Reward at t = 190 was -1.9226 for action 0\n",
      "Reward at t = 191 was -1.2586 for action 0\n",
      "Reward at t = 192 was -0.7965 for action 0\n",
      "Reward at t = 193 was -1.3541 for action 0\n",
      "Reward at t = 194 was -0.7691 for action 0\n",
      "Reward at t = 195 was 0.9738 for action 0\n",
      "Reward at t = 196 was 0.6569 for action 0\n",
      "Reward at t = 197 was -0.4928 for action 0\n",
      "Reward at t = 198 was -0.2930 for action 0\n",
      "Reward at t = 199 was 1.4637 for action 0\n",
      "Reward at t = 200 was 0.9533 for action 0\n",
      "Reward at t = 201 was 1.3724 for action 0\n",
      "Reward at t = 202 was 0.2170 for action 0\n",
      "Reward at t = 203 was -0.3751 for action 0\n",
      "Reward at t = 204 was -2.6026 for action 0\n",
      "Reward at t = 205 was 0.2129 for action 0\n",
      "Reward at t = 206 was -1.2144 for action 0\n",
      "Reward at t = 207 was -0.6651 for action 0\n",
      "Reward at t = 208 was -1.0315 for action 0\n",
      "Reward at t = 209 was 0.5053 for action 0\n",
      "Reward at t = 210 was -0.4903 for action 0\n",
      "Reward at t = 211 was 0.3503 for action 0\n",
      "Reward at t = 212 was -0.7366 for action 0\n",
      "Reward at t = 213 was -0.2271 for action 0\n",
      "Reward at t = 214 was -0.6222 for action 0\n",
      "Reward at t = 215 was -0.3346 for action 0\n",
      "Reward at t = 216 was 0.0700 for action 0\n",
      "Reward at t = 217 was 0.0076 for action 0\n",
      "Reward at t = 218 was 0.0845 for action 0\n",
      "Reward at t = 219 was -0.1753 for action 0\n",
      "Reward at t = 220 was -1.0670 for action 0\n",
      "Reward at t = 221 was -1.7372 for action 0\n",
      "Reward at t = 222 was -0.8799 for action 0\n",
      "Reward at t = 223 was -2.1880 for action 0\n",
      "Reward at t = 224 was -0.8129 for action 0\n",
      "Reward at t = 225 was -1.8504 for action 0\n",
      "Reward at t = 226 was -1.0163 for action 0\n",
      "Reward at t = 227 was -2.0983 for action 0\n",
      "Reward at t = 228 was -0.7472 for action 0\n",
      "Reward at t = 229 was -0.9507 for action 0\n",
      "Reward at t = 230 was -2.0200 for action 0\n",
      "Reward at t = 231 was -0.8031 for action 0\n",
      "Reward at t = 232 was -0.2622 for action 0\n",
      "Reward at t = 233 was -1.0537 for action 0\n",
      "Reward at t = 234 was -0.0770 for action 0\n",
      "Reward at t = 235 was -1.4332 for action 0\n",
      "Reward at t = 236 was -1.7804 for action 0\n",
      "Reward at t = 237 was -1.1072 for action 0\n",
      "Reward at t = 238 was -0.2959 for action 0\n",
      "Reward at t = 239 was -0.9272 for action 0\n",
      "Reward at t = 240 was -1.2227 for action 0\n",
      "Reward at t = 241 was -0.3641 for action 0\n",
      "Reward at t = 242 was 0.1139 for action 0\n",
      "Reward at t = 243 was -2.7345 for action 0\n",
      "Reward at t = 244 was 0.8198 for action 0\n",
      "Reward at t = 245 was -0.4767 for action 0\n",
      "Reward at t = 246 was 0.9275 for action 0\n",
      "Reward at t = 247 was -0.2829 for action 0\n",
      "Reward at t = 248 was 1.6292 for action 0\n",
      "Reward at t = 249 was 0.0205 for action 0\n",
      "Mean reward = -0.5393\n"
     ]
    }
   ],
   "source": [
    "#Step 1\n",
    "print(f\"Rewards being generated centered at {q_star[0]:.4f}\\n\")\n",
    "\n",
    "for steps in range(iterations):\n",
    "    for i in range(len(Q)):\n",
    "        reward.append(np.random.normal(q_star[i], 1))\n",
    "\n",
    "#Step 2\n",
    "for j in range(len(reward)):\n",
    "    print(f\"Reward at t = {j} was {reward[j]:.4f} for action {i}\")\n",
    "\n",
    "print(f\"Mean reward = {np.mean(reward):.4f}\")"
   ]
  },
  {
   "cell_type": "markdown",
   "metadata": {},
   "source": [
    "When to step generating new values? Remember that the *mean and variance* of the population are unknown. We will continue to generate new data and stop as follows:\n",
    "\n",
    "1. Choose an acceptable value $d$ for the standard deviation of the estimator.\n",
    "2. Generate at least 100 data values. **Burn-In phase**\n",
    "3. Continue to generate additional data values, stopping when you have generated $k$ values and $S / \\sqrt{k}<d$, where $S$ is the sample standard deviation based on those $k$ values.\n",
    "4. The estimate of $\\theta$ is given by $\\bar{X}=\\sum_{i=1}^k X_i / k$."
   ]
  },
  {
   "cell_type": "code",
   "execution_count": 798,
   "metadata": {},
   "outputs": [
    {
     "name": "stdout",
     "output_type": "stream",
     "text": [
      "88 data points were generated to achieve S/sqrt(k) < d\n",
      "(True mean, estimated mean) = (-0.6201067982890204, -0.588525383491204)\n"
     ]
    },
    {
     "data": {
      "text/plain": [
       "90"
      ]
     },
     "execution_count": 798,
     "metadata": {},
     "output_type": "execute_result"
    }
   ],
   "source": [
    "# No Burn-In phase.\n",
    "\"\"\" \n",
    "In practice, not using the Burn-In phase may cause situations such as:\n",
    "\n",
    "1 data points were generated to achieve S/sqrt(k) < d\n",
    "(True mean, estimated mean) = (0.40078133412317934, 0.5255517960646893) \n",
    "\n",
    "Pay attention to the estimate of the mean. It is not very good.\n",
    "What happened was that the initial variability of the data \n",
    "(transient state is a good term to think about here)\n",
    "caused the condition to be satisfied. \n",
    "\n",
    "Burn-In throws away some iterations in an attempt to dismiss\n",
    "the transient phase of the process.\n",
    "\n",
    "It seems to be more of an empirical approach and basically\n",
    "tries to avoid starting at bad initial conditions (or subsets of data).\n",
    "\n",
    "\"\"\"\n",
    "reward = []\n",
    "d = 0.1\n",
    "sample_variance = d + 1\n",
    "k = 1\n",
    "\n",
    "for i in range(len(Q)):\n",
    "    #Como dividimos por n - 1, precisamos de pelo menos duas amostras.\n",
    "    reward.append(np.random.normal(q_star[i], 1))\n",
    "    reward.append(np.random.normal(q_star[i], 1))\n",
    "\n",
    "    while sample_variance/np.sqrt(k) >= d:\n",
    "        reward.append(np.random.normal(q_star[i], 1))\n",
    "        sample_variance = np.var(reward, ddof=1)\n",
    "        k = k + 1\n",
    "\n",
    "print(f\"{k - 1} data points were generated to achieve S/sqrt(k) < d\")\n",
    "print(f\"(True mean, estimated mean) = ({q_star[0]}, {np.mean(reward)})\")\n",
    "len(reward)\n"
   ]
  },
  {
   "cell_type": "code",
   "execution_count": 799,
   "metadata": {},
   "outputs": [
    {
     "name": "stdout",
     "output_type": "stream",
     "text": [
      "117 + 100 = 217 data points were generated to achieve S/sqrt(k) < d\n",
      "(True mean, estimated mean) = (-0.6201067982890204, -0.574102113895741)\n"
     ]
    },
    {
     "data": {
      "text/plain": [
       "217"
      ]
     },
     "execution_count": 799,
     "metadata": {},
     "output_type": "execute_result"
    }
   ],
   "source": [
    "# WITH Burn-In phase.\n",
    "\"\"\"\n",
    "There are still bad estimates such as:\n",
    "\n",
    "99 + 100 = 199 data points were generated to achieve S/sqrt(k) < d\n",
    "(True mean, estimated mean) = (-0.006676708893368068, 0.01166517574425389)\n",
    "\n",
    "but they are more rare and tend to be less frequent.\n",
    "\"\"\"\n",
    "reward = []\n",
    "d = 0.1\n",
    "sample_variance = d + 1\n",
    "k = 1\n",
    "\n",
    "#Burn-In\n",
    "for burn_in_phase in range(100):\n",
    "    reward.append(np.random.normal(q_star[i], 1))\n",
    "\n",
    "for i in range(len(Q)):\n",
    "\n",
    "    while sample_variance/np.sqrt(k) >= d:\n",
    "        reward.append(np.random.normal(q_star[i], 1))\n",
    "        sample_variance = np.var(reward, ddof=1)\n",
    "        k = k + 1\n",
    "\n",
    "print(f\"{(k - 1)} + {burn_in_phase + 1} = {(k - 1) + (burn_in_phase + 1)} data points were generated to achieve S/sqrt(k) < d\")\n",
    "print(f\"(True mean, estimated mean) = ({q_star[0]}, {np.mean(reward)})\")\n",
    "len(reward)"
   ]
  },
  {
   "cell_type": "code",
   "execution_count": 800,
   "metadata": {},
   "outputs": [
    {
     "name": "stdout",
     "output_type": "stream",
     "text": [
      "117 data points were generated to achieve S/sqrt(k) < d\n",
      "(True mean, estimated mean) = (-0.6201067982890204, -0.574102113895741)\n"
     ]
    },
    {
     "data": {
      "text/plain": [
       "217"
      ]
     },
     "execution_count": 800,
     "metadata": {},
     "output_type": "execute_result"
    }
   ],
   "source": [
    "for i in range(len(Q)):\n",
    "    while sample_variance/np.sqrt(k) >= d:\n",
    "        reward.append(np.random.normal(q_star[i], 1))\n",
    "        sample_variance = np.var(reward, ddof=1)\n",
    "        k = k + 1\n",
    "\n",
    "print(f\"{k - 1} data points were generated to achieve S/sqrt(k) < d\")\n",
    "print(f\"(True mean, estimated mean) = ({q_star[0]}, {np.mean(reward)})\")\n",
    "len(reward)"
   ]
  },
  {
   "cell_type": "code",
   "execution_count": 801,
   "metadata": {},
   "outputs": [
    {
     "data": {
      "image/png": "[encoded data removed]",
      "text/plain": [
       "<Figure size 640x480 with 1 Axes>"
      ]
     },
     "metadata": {},
     "output_type": "display_data"
    }
   ],
   "source": [
    "plt.hist(reward)\n",
    "plt.axvline(q_star[0], color='r', linestyle='--', linewidth=2, label=f'q_star[0] = {q_star[0]:.6f}')\n",
    "plt.axvline(np.mean(reward), color='r', linestyle='--', linewidth=2, label=f'estimate = {np.mean(reward):.6f}')\n",
    "plt.legend()\n",
    "\n",
    "plt.show()"
   ]
  },
  {
   "cell_type": "code",
   "execution_count": 802,
   "metadata": {},
   "outputs": [
    {
     "data": {
      "text/plain": [
       "{'whiskers': [<matplotlib.lines.Line2D at 0x20a045e2210>,\n",
       "  <matplotlib.lines.Line2D at 0x20a045e24e0>],\n",
       " 'caps': [<matplotlib.lines.Line2D at 0x20a045e27e0>,\n",
       "  <matplotlib.lines.Line2D at 0x20a045e2a80>],\n",
       " 'boxes': [<matplotlib.lines.Line2D at 0x20a045e1fd0>],\n",
       " 'medians': [<matplotlib.lines.Line2D at 0x20a045e2d80>],\n",
       " 'fliers': [<matplotlib.lines.Line2D at 0x20a045e3080>],\n",
       " 'means': []}"
      ]
     },
     "execution_count": 802,
     "metadata": {},
     "output_type": "execute_result"
    },
    {
     "data": {
      "image/png": "[encoded data removed]",
      "text/plain": [
       "<Figure size 640x480 with 1 Axes>"
      ]
     },
     "metadata": {},
     "output_type": "display_data"
    }
   ],
   "source": [
    "plt.boxplot(reward)"
   ]
  }
 ],
 "metadata": {
  "kernelspec": {
   "display_name": "Python 3",
   "language": "python",
   "name": "python3"
  },
  "language_info": {
   "codemirror_mode": {
    "name": "ipython",
    "version": 3
   },
   "file_extension": ".py",
   "mimetype": "text/x-python",
   "name": "python",
   "nbconvert_exporter": "python",
   "pygments_lexer": "ipython3",
   "version": "3.12.4"
  }
 },
 "nbformat": 4,
 "nbformat_minor": 2
}
